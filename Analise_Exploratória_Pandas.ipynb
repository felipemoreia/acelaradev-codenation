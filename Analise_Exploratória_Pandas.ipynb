{
  "nbformat": 4,
  "nbformat_minor": 0,
  "metadata": {
    "kernelspec": {
      "display_name": "Python 3",
      "language": "python",
      "name": "python3"
    },
    "language_info": {
      "codemirror_mode": {
        "name": "ipython",
        "version": 3
      },
      "file_extension": ".py",
      "mimetype": "text/x-python",
      "name": "python",
      "nbconvert_exporter": "python",
      "pygments_lexer": "ipython3",
      "version": "3.8.2"
    },
    "colab": {
      "name": "Analise_Exploratória_Pandas.ipynb",
      "provenance": [],
      "collapsed_sections": [],
      "include_colab_link": true
    }
  },
  "cells": [
    {
      "cell_type": "markdown",
      "metadata": {
        "id": "view-in-github",
        "colab_type": "text"
      },
      "source": [
        "<a href=\"https://colab.research.google.com/github/felipemoreia/acelaradev-codenation/blob/master/Analise_Explorat%C3%B3ria_Pandas.ipynb\" target=\"_parent\"><img src=\"https://colab.research.google.com/assets/colab-badge.svg\" alt=\"Open In Colab\"/></a>"
      ]
    },
    {
      "cell_type": "markdown",
      "metadata": {
        "id": "DktXtOp2YXV8",
        "colab_type": "text"
      },
      "source": [
        "# Desafio 1\n",
        "\n",
        "Para esse desafio, vamos trabalhar com o data set [Black Friday](https://www.kaggle.com/mehdidag/black-friday), que reúne dados sobre transações de compras em uma loja de varejo.\n",
        "\n",
        "Vamos utilizá-lo para praticar a exploração de data sets utilizando pandas. Você pode fazer toda análise neste mesmo notebook, mas as resposta devem estar nos locais indicados.\n",
        "\n",
        "> Obs.: Por favor, não modifique o nome das funções de resposta."
      ]
    },
    {
      "cell_type": "markdown",
      "metadata": {
        "id": "ujC7VQgWYXV9",
        "colab_type": "text"
      },
      "source": [
        "## _Set up_ da análise"
      ]
    },
    {
      "cell_type": "code",
      "metadata": {
        "id": "PS0pwC9XYXV-",
        "colab_type": "code",
        "colab": {}
      },
      "source": [
        "import pandas as pd\n",
        "import numpy as np"
      ],
      "execution_count": 0,
      "outputs": []
    },
    {
      "cell_type": "code",
      "metadata": {
        "id": "XKhJjiEdYXWB",
        "colab_type": "code",
        "colab": {}
      },
      "source": [
        "black_friday = pd.read_csv(\"black_friday.csv\")"
      ],
      "execution_count": 0,
      "outputs": []
    },
    {
      "cell_type": "markdown",
      "metadata": {
        "id": "aRbOKCRSYXWE",
        "colab_type": "text"
      },
      "source": [
        "## Inicie sua análise a partir daqui"
      ]
    },
    {
      "cell_type": "code",
      "metadata": {
        "id": "kCxvwDaZYXWE",
        "colab_type": "code",
        "colab": {},
        "outputId": "e873b0d4-f5ba-4d47-d38f-fc733bc90143"
      },
      "source": [
        "tuple(black_friday.shape)"
      ],
      "execution_count": 0,
      "outputs": [
        {
          "output_type": "execute_result",
          "data": {
            "text/plain": [
              "(537577, 12)"
            ]
          },
          "metadata": {
            "tags": []
          },
          "execution_count": 3
        }
      ]
    },
    {
      "cell_type": "code",
      "metadata": {
        "id": "uZvK1kT2YXWI",
        "colab_type": "code",
        "colab": {}
      },
      "source": [
        "dataframe = black_friday"
      ],
      "execution_count": 0,
      "outputs": []
    },
    {
      "cell_type": "markdown",
      "metadata": {
        "id": "7c2PxW0pYXWK",
        "colab_type": "text"
      },
      "source": [
        "## Questão 1\n",
        "\n",
        "Quantas observações e quantas colunas há no dataset? Responda no formato de uma tuple `(n_observacoes, n_colunas)`."
      ]
    },
    {
      "cell_type": "code",
      "metadata": {
        "id": "Jt0y4gBBYXWL",
        "colab_type": "code",
        "colab": {}
      },
      "source": [
        "def q1():\n",
        "        return tuple(dataframe.shape)\n",
        "    "
      ],
      "execution_count": 0,
      "outputs": []
    },
    {
      "cell_type": "markdown",
      "metadata": {
        "id": "D2l6yLIjYXWN",
        "colab_type": "text"
      },
      "source": [
        "## Questão 2\n",
        "\n",
        "Há quantas mulheres com idade entre 26 e 35 anos no dataset? Responda como um único escalar."
      ]
    },
    {
      "cell_type": "code",
      "metadata": {
        "id": "FGLYOL4vYXWN",
        "colab_type": "code",
        "colab": {}
      },
      "source": [
        "def q2():\n",
        "    df_female_middleage = dataframe.loc[(dataframe['Gender']=='F')&(dataframe['Age']=='26-35')]\n",
        "    numero_total = int(df_female_middleage.shape[0])\n",
        "    return numero_total"
      ],
      "execution_count": 0,
      "outputs": []
    },
    {
      "cell_type": "markdown",
      "metadata": {
        "id": "6nJd03pfYXWQ",
        "colab_type": "text"
      },
      "source": [
        "## Questão 3\n",
        "\n",
        "Quantos usuários únicos há no dataset? Responda como um único escalar."
      ]
    },
    {
      "cell_type": "code",
      "metadata": {
        "id": "6Xnw1NWYYXWQ",
        "colab_type": "code",
        "colab": {}
      },
      "source": [
        "def q3():\n",
        "    return len(dataframe['User_ID'].unique())"
      ],
      "execution_count": 0,
      "outputs": []
    },
    {
      "cell_type": "markdown",
      "metadata": {
        "id": "VOrTqRzqYXWT",
        "colab_type": "text"
      },
      "source": [
        "## Questão 4\n",
        "\n",
        "Quantos tipos de dados diferentes existem no dataset? Responda como um único escalar."
      ]
    },
    {
      "cell_type": "code",
      "metadata": {
        "id": "MG1QLFRcYXWU",
        "colab_type": "code",
        "colab": {}
      },
      "source": [
        "def q4():\n",
        "      return len(dataframe.dtypes.unique())"
      ],
      "execution_count": 0,
      "outputs": []
    },
    {
      "cell_type": "markdown",
      "metadata": {
        "id": "ygGGus-eYXWW",
        "colab_type": "text"
      },
      "source": [
        "## Questão 5\n",
        "\n",
        "Qual porcentagem dos registros possui ao menos um valor null (`None`, `ǸaN` etc)? Responda como um único escalar entre 0 e 1."
      ]
    },
    {
      "cell_type": "code",
      "metadata": {
        "id": "6C8OK_vsYXWW",
        "colab_type": "code",
        "colab": {}
      },
      "source": [
        "def q5():\n",
        "    tot_nulls = dataframe.isnull().any(axis=1).sum()\n",
        "    tot = dataframe.shape[0]\n",
        "    perc = float(tot_nulls/tot)\n",
        "    return perc"
      ],
      "execution_count": 0,
      "outputs": []
    },
    {
      "cell_type": "markdown",
      "metadata": {
        "id": "-s7z-VjhYXWa",
        "colab_type": "text"
      },
      "source": [
        "## Questão 6\n",
        "\n",
        "Quantos valores null existem na variável (coluna) com o maior número de null? Responda como um único escalar."
      ]
    },
    {
      "cell_type": "code",
      "metadata": {
        "id": "ExzUF-VeYXWa",
        "colab_type": "code",
        "colab": {}
      },
      "source": [
        "def q6():\n",
        "    df = pd.DataFrame(dataframe.isna().sum())\n",
        "    num = int(df.max())\n",
        "    return num"
      ],
      "execution_count": 0,
      "outputs": []
    },
    {
      "cell_type": "markdown",
      "metadata": {
        "id": "dRCar-PEYXWc",
        "colab_type": "text"
      },
      "source": [
        "## Questão 7\n",
        "\n",
        "Qual o valor mais frequente (sem contar nulls) em `Product_Category_3`? Responda como um único escalar."
      ]
    },
    {
      "cell_type": "code",
      "metadata": {
        "id": "MTsN29TKYXWd",
        "colab_type": "code",
        "colab": {}
      },
      "source": [
        "def q7():\n",
        "    count = pd.DataFrame(dataframe['Product_Category_3'].value_counts())\n",
        "    biggest = count.head(1).index\n",
        "    return biggest[0]\n",
        "    "
      ],
      "execution_count": 0,
      "outputs": []
    },
    {
      "cell_type": "code",
      "metadata": {
        "id": "Zd5ggAzvYXWf",
        "colab_type": "code",
        "colab": {},
        "outputId": "0b4e8b83-44d6-4a4b-e4c2-0a612aacb925"
      },
      "source": [
        "q7()"
      ],
      "execution_count": 0,
      "outputs": [
        {
          "output_type": "execute_result",
          "data": {
            "text/plain": [
              "16.0"
            ]
          },
          "metadata": {
            "tags": []
          },
          "execution_count": 12
        }
      ]
    },
    {
      "cell_type": "markdown",
      "metadata": {
        "id": "sjBYSxKyYXWl",
        "colab_type": "text"
      },
      "source": [
        "## Questão 8\n",
        "\n",
        "Qual a nova média da variável (coluna) `Purchase` após sua normalização? Responda como um único escalar."
      ]
    },
    {
      "cell_type": "code",
      "metadata": {
        "id": "pLMjNMlsYXWl",
        "colab_type": "code",
        "colab": {}
      },
      "source": [
        "def q8():\n",
        "    novo_df2 = dataframe\n",
        "    novo_df2['normalizado'] = (novo_df2['Purchase'] - novo_df2['Purchase'].min())/ (novo_df2['Purchase'].max() - novo_df2['Purchase'].min())\n",
        "    return float(novo_df2['normalizado'].mean())\n",
        "    "
      ],
      "execution_count": 0,
      "outputs": []
    },
    {
      "cell_type": "markdown",
      "metadata": {
        "id": "2JDSqEiIYXWo",
        "colab_type": "text"
      },
      "source": [
        "## Questão 9\n",
        "\n",
        "Quantas ocorrências entre -1 e 1 inclusive existem da variáel `Purchase` após sua padronização? Responda como um único escalar."
      ]
    },
    {
      "cell_type": "code",
      "metadata": {
        "id": "R-QPD9JyYXWo",
        "colab_type": "code",
        "colab": {}
      },
      "source": [
        "def q9():\n",
        "    novo_df = dataframe\n",
        "    novo_df['Padronizado'] = (novo_df['Purchase'] - novo_df['Purchase'].mean())/(novo_df['Purchase'].std())\n",
        "    return len(novo_df[(novo_df['Padronizado']>-1) & (novo_df['Padronizado']<1)])\n"
      ],
      "execution_count": 0,
      "outputs": []
    },
    {
      "cell_type": "markdown",
      "metadata": {
        "id": "hEoJrDY7YXWr",
        "colab_type": "text"
      },
      "source": [
        "## Questão 10\n",
        "\n",
        "Podemos afirmar que se uma observação é null em `Product_Category_2` ela também o é em `Product_Category_3`? Responda com um bool (`True`, `False`)."
      ]
    },
    {
      "cell_type": "code",
      "metadata": {
        "id": "6bik_LaOYXWr",
        "colab_type": "code",
        "colab": {}
      },
      "source": [
        "def q10():\n",
        "    nullspc2 = int(dataframe['Product_Category_2'].isna().sum())\n",
        "    interction_pc2_pc3 = len(dataframe[(dataframe['Product_Category_3'].isna())&(dataframe['Product_Category_2'].isna())])\n",
        "    return nullspc2 == interction_pc2_pc3"
      ],
      "execution_count": 0,
      "outputs": []
    }
  ]
}