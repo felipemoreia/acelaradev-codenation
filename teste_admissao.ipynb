{
  "nbformat": 4,
  "nbformat_minor": 0,
  "metadata": {
    "kernelspec": {
      "display_name": "Python 3",
      "language": "python",
      "name": "python3"
    },
    "language_info": {
      "codemirror_mode": {
        "name": "ipython",
        "version": 3
      },
      "file_extension": ".py",
      "mimetype": "text/x-python",
      "name": "python",
      "nbconvert_exporter": "python",
      "pygments_lexer": "ipython3",
      "version": "3.7.4"
    },
    "colab": {
      "name": "teste_admissao.ipynb",
      "provenance": [],
      "collapsed_sections": [],
      "include_colab_link": true
    }
  },
  "cells": [
    {
      "cell_type": "markdown",
      "metadata": {
        "id": "view-in-github",
        "colab_type": "text"
      },
      "source": [
        "<a href=\"https://colab.research.google.com/github/felipemoreia/acelaradev-codenation/blob/master/teste_admissao.ipynb\" target=\"_parent\"><img src=\"https://colab.research.google.com/assets/colab-badge.svg\" alt=\"Open In Colab\"/></a>"
      ]
    },
    {
      "cell_type": "code",
      "metadata": {
        "id": "swgiNktPaHY6",
        "colab_type": "code",
        "colab": {}
      },
      "source": [
        "import pandas as pd \n",
        "import numpy as np\n",
        "from sklearn.preprocessing import StandardScaler, MinMaxScaler\n",
        "from sklearn.model_selection import cross_val_score\n",
        "from sklearn import metrics\n"
      ],
      "execution_count": 0,
      "outputs": []
    },
    {
      "cell_type": "code",
      "metadata": {
        "id": "yRgz7AZKaHY-",
        "colab_type": "code",
        "colab": {}
      },
      "source": [
        "train = pd.read_csv('train.csv') \n",
        "test = pd.read_csv('test.csv') \n",
        "df_resposta = pd.DataFrame()\n"
      ],
      "execution_count": 0,
      "outputs": []
    },
    {
      "cell_type": "code",
      "metadata": {
        "id": "mfRupg9LaHZA",
        "colab_type": "code",
        "colab": {}
      },
      "source": [
        "train = train.select_dtypes(include=['int64','float64'])\n",
        "df_resposta['NU_INSCRICAO'] = test['NU_INSCRICAO']"
      ],
      "execution_count": 0,
      "outputs": []
    },
    {
      "cell_type": "code",
      "metadata": {
        "id": "SiSGPtH_aHZF",
        "colab_type": "code",
        "colab": {}
      },
      "source": [
        "features = ['NU_NOTA_MT', 'NU_NOTA_CN', 'NU_NOTA_CH', 'NU_NOTA_LC', 'NU_NOTA_COMP1', 'NU_NOTA_COMP2', 'NU_NOTA_COMP3', 'NU_NOTA_COMP4', 'NU_NOTA_COMP5','NU_NOTA_REDACAO']\n"
      ],
      "execution_count": 0,
      "outputs": []
    },
    {
      "cell_type": "code",
      "metadata": {
        "id": "zDW1gvQHaHZH",
        "colab_type": "code",
        "colab": {}
      },
      "source": [
        "features2 =  ['NU_INSCRICAO','NU_NOTA_CN', 'NU_NOTA_CH', 'NU_NOTA_LC', 'NU_NOTA_COMP1', 'NU_NOTA_COMP2', 'NU_NOTA_COMP3', 'NU_NOTA_COMP4', 'NU_NOTA_COMP5', 'NU_NOTA_REDACAO']\n"
      ],
      "execution_count": 0,
      "outputs": []
    },
    {
      "cell_type": "code",
      "metadata": {
        "id": "XFY852N9aHZK",
        "colab_type": "code",
        "colab": {}
      },
      "source": [
        "dummieses = ['tp_escola_novo', 'tp_dependencia_novo']\n",
        "\n",
        "train['tp_escola_novo'] = train['TP_ESCOLA'].replace([1,2,3,4],['nr', 'pub', 'pri', 'ext'])\n",
        "train['tp_dependencia_novo'] = train['TP_DEPENDENCIA_ADM_ESC'].replace([1,2,3,4],['fed', 'est', 'mun', 'priv'])\n",
        "\n",
        "dummies = pd.get_dummies(train[dummieses])\n",
        "dummies[features] = train[features]\n",
        "\n",
        "test['tp_escola_novo'] = test['TP_ESCOLA'].replace([1,2,3,4],['nr', 'pub', 'pri', 'ext'])\n",
        "test['tp_dependencia_novo'] = test['TP_DEPENDENCIA_ADM_ESC'].replace([1,2,3,4],['fed', 'est', 'mun', 'priv'])\n",
        "\n",
        "dummies_test = pd.get_dummies(train[dummieses])\n",
        "dummies_test[features2] = test[features2]"
      ],
      "execution_count": 0,
      "outputs": []
    },
    {
      "cell_type": "code",
      "metadata": {
        "id": "8W0ukerWaHZM",
        "colab_type": "code",
        "colab": {}
      },
      "source": [
        "dummies = dummies.loc[\n",
        "      (dummies['NU_NOTA_CN'].notnull())  & (dummies['NU_NOTA_CN'] != 0) & (dummies['NU_NOTA_CH'].notnull())      & (dummies['NU_NOTA_CH'] != 0) \n",
        "    & (dummies['NU_NOTA_LC'].notnull())  & (dummies['NU_NOTA_LC'] != 0) & (dummies['NU_NOTA_REDACAO'].notnull()) & (dummies['NU_NOTA_REDACAO'] != 0)    \n",
        "]"
      ],
      "execution_count": 0,
      "outputs": []
    },
    {
      "cell_type": "code",
      "metadata": {
        "id": "CCr8ACWUaHZP",
        "colab_type": "code",
        "colab": {}
      },
      "source": [
        "dummies_test = dummies_test.loc[\n",
        "      (dummies_test['NU_NOTA_CN'].notnull())  & (dummies_test['NU_NOTA_CN'] != 0) & (dummies_test['NU_NOTA_CH'].notnull())      & (dummies_test['NU_NOTA_CH'] != 0) \n",
        "    & (dummies_test['NU_NOTA_LC'].notnull())  & (dummies_test['NU_NOTA_LC'] != 0) & (dummies_test['NU_NOTA_REDACAO'].notnull()) & (dummies_test['NU_NOTA_REDACAO'] != 0)    \n",
        "]"
      ],
      "execution_count": 0,
      "outputs": []
    },
    {
      "cell_type": "code",
      "metadata": {
        "id": "Vg0bo5tNaHZR",
        "colab_type": "code",
        "colab": {},
        "outputId": "68e2db51-2a3f-4c29-fd57-30312f335296"
      },
      "source": [
        "dummies_test.isnull().sum()"
      ],
      "execution_count": 0,
      "outputs": [
        {
          "output_type": "execute_result",
          "data": {
            "text/plain": [
              "tp_escola_novo_ext          0\n",
              "tp_escola_novo_nr           0\n",
              "tp_escola_novo_pri          0\n",
              "tp_escola_novo_pub          0\n",
              "tp_dependencia_novo_est     0\n",
              "tp_dependencia_novo_fed     0\n",
              "tp_dependencia_novo_mun     0\n",
              "tp_dependencia_novo_priv    0\n",
              "NU_INSCRICAO                0\n",
              "NU_NOTA_CN                  0\n",
              "NU_NOTA_CH                  0\n",
              "NU_NOTA_LC                  0\n",
              "NU_NOTA_COMP1               0\n",
              "NU_NOTA_COMP2               0\n",
              "NU_NOTA_COMP3               0\n",
              "NU_NOTA_COMP4               0\n",
              "NU_NOTA_COMP5               0\n",
              "NU_NOTA_REDACAO             0\n",
              "dtype: int64"
            ]
          },
          "metadata": {
            "tags": []
          },
          "execution_count": 9
        }
      ]
    },
    {
      "cell_type": "code",
      "metadata": {
        "id": "GXpChA4MaHZU",
        "colab_type": "code",
        "colab": {}
      },
      "source": [
        "y_train = dummies['NU_NOTA_MT']\n",
        "X = dummies.drop('NU_NOTA_MT', axis=1)"
      ],
      "execution_count": 0,
      "outputs": []
    },
    {
      "cell_type": "code",
      "metadata": {
        "id": "tR0wz_C-aHZW",
        "colab_type": "code",
        "colab": {}
      },
      "source": [
        "scaler = StandardScaler()\n",
        "X_train_scaled = scaler.fit_transform(X)\n",
        "df_scaler_test = dummies_test.drop('NU_INSCRICAO', axis=1)\n",
        "X_test_scaled = scaler.fit_transform(df_scaler_test)\n",
        "X_train_scaled = pd.DataFrame(X_train_scaled)\n"
      ],
      "execution_count": 0,
      "outputs": []
    },
    {
      "cell_type": "code",
      "metadata": {
        "id": "FPIfs0ubaHZY",
        "colab_type": "code",
        "colab": {}
      },
      "source": [
        "cv = 5\n",
        "scoring = 'r2'\n",
        "n_jobs = -1"
      ],
      "execution_count": 0,
      "outputs": []
    },
    {
      "cell_type": "code",
      "metadata": {
        "id": "dJ0KjzvpaHZa",
        "colab_type": "code",
        "colab": {},
        "outputId": "0dc7bca6-b3d0-434f-829e-8485d6c6223a"
      },
      "source": [
        "from sklearn.ensemble import GradientBoostingRegressor\n",
        "model = GradientBoostingRegressor()\n",
        "scores = cross_val_score(model, X_train_scaled, y_train, cv = cv,\n",
        "                         scoring = scoring, n_jobs = n_jobs)\n",
        "scores.mean()"
      ],
      "execution_count": 0,
      "outputs": [
        {
          "output_type": "execute_result",
          "data": {
            "text/plain": [
              "0.4394822601070715"
            ]
          },
          "metadata": {
            "tags": []
          },
          "execution_count": 13
        }
      ]
    },
    {
      "cell_type": "code",
      "metadata": {
        "id": "NfXpGEhMaHZc",
        "colab_type": "code",
        "colab": {}
      },
      "source": [
        "model.fit(X_train_scaled, y_train)\n",
        "y_pred = model.predict(X_test_scaled)"
      ],
      "execution_count": 0,
      "outputs": []
    },
    {
      "cell_type": "code",
      "metadata": {
        "id": "oe3WhNibaHZe",
        "colab_type": "code",
        "colab": {}
      },
      "source": [
        "dummies_test['NU_NOTA_MT'] = np.around(y_pred,2)"
      ],
      "execution_count": 0,
      "outputs": []
    },
    {
      "cell_type": "code",
      "metadata": {
        "id": "7P_CvOz0aHZg",
        "colab_type": "code",
        "colab": {}
      },
      "source": [
        "respostas = ['NU_NOTA_MT', 'NU_INSCRICAO']\n",
        "dummies_resposta = dummies_test[respostas]"
      ],
      "execution_count": 0,
      "outputs": []
    },
    {
      "cell_type": "code",
      "metadata": {
        "id": "oD6q4omGaHZi",
        "colab_type": "code",
        "colab": {}
      },
      "source": [
        "df_resposta = df_resposta.merge(dummies_resposta, on='NU_INSCRICAO', how='left')"
      ],
      "execution_count": 0,
      "outputs": []
    },
    {
      "cell_type": "code",
      "metadata": {
        "id": "KLfa3P45aHZk",
        "colab_type": "code",
        "colab": {},
        "outputId": "590ab1af-0702-491b-a090-f6def9ac2609"
      },
      "source": [
        "df_resposta.head(50)"
      ],
      "execution_count": 0,
      "outputs": [
        {
          "output_type": "execute_result",
          "data": {
            "text/html": [
              "<div>\n",
              "<style scoped>\n",
              "    .dataframe tbody tr th:only-of-type {\n",
              "        vertical-align: middle;\n",
              "    }\n",
              "\n",
              "    .dataframe tbody tr th {\n",
              "        vertical-align: top;\n",
              "    }\n",
              "\n",
              "    .dataframe thead th {\n",
              "        text-align: right;\n",
              "    }\n",
              "</style>\n",
              "<table border=\"1\" class=\"dataframe\">\n",
              "  <thead>\n",
              "    <tr style=\"text-align: right;\">\n",
              "      <th></th>\n",
              "      <th>NU_INSCRICAO</th>\n",
              "      <th>NU_NOTA_MT</th>\n",
              "    </tr>\n",
              "  </thead>\n",
              "  <tbody>\n",
              "    <tr>\n",
              "      <td>0</td>\n",
              "      <td>73ff9fcc02f0a99919906c942c2e1a1042cdcf98</td>\n",
              "      <td>436.02</td>\n",
              "    </tr>\n",
              "    <tr>\n",
              "      <td>1</td>\n",
              "      <td>71a95f9f1b91a82c65ad94abbdf9f54e6066f968</td>\n",
              "      <td>448.63</td>\n",
              "    </tr>\n",
              "    <tr>\n",
              "      <td>2</td>\n",
              "      <td>b38a03232f43b11c9d0788abaf060f7366053b6d</td>\n",
              "      <td>584.28</td>\n",
              "    </tr>\n",
              "    <tr>\n",
              "      <td>3</td>\n",
              "      <td>70b682d9a3636be23f6120fa9d6b164eb3c6002d</td>\n",
              "      <td>NaN</td>\n",
              "    </tr>\n",
              "    <tr>\n",
              "      <td>4</td>\n",
              "      <td>715494628a50142ce8cb17191cfe6d0f3cae0934</td>\n",
              "      <td>542.62</td>\n",
              "    </tr>\n",
              "    <tr>\n",
              "      <td>5</td>\n",
              "      <td>e656d6bad65c93fb2880f1eba5037008c8e75774</td>\n",
              "      <td>474.13</td>\n",
              "    </tr>\n",
              "    <tr>\n",
              "      <td>6</td>\n",
              "      <td>465cd2a6907fb37d9d8ad3c065f0e2dabdba9b13</td>\n",
              "      <td>518.57</td>\n",
              "    </tr>\n",
              "    <tr>\n",
              "      <td>7</td>\n",
              "      <td>11539e86171bf07d3a36f09377d7f54ebcc8406a</td>\n",
              "      <td>438.05</td>\n",
              "    </tr>\n",
              "    <tr>\n",
              "      <td>8</td>\n",
              "      <td>043c544a2104aa8a9849f1a703a08d37a2f16839</td>\n",
              "      <td>474.11</td>\n",
              "    </tr>\n",
              "    <tr>\n",
              "      <td>9</td>\n",
              "      <td>76ba050e64ad100b856f0eaabd8f539d5c7dd185</td>\n",
              "      <td>455.78</td>\n",
              "    </tr>\n",
              "    <tr>\n",
              "      <td>10</td>\n",
              "      <td>8b7c167ea7b55c8168ec60c3851b1b598a8fbd11</td>\n",
              "      <td>NaN</td>\n",
              "    </tr>\n",
              "    <tr>\n",
              "      <td>11</td>\n",
              "      <td>db4da599aab5bb08dce27094a35fd3e36cd0abce</td>\n",
              "      <td>NaN</td>\n",
              "    </tr>\n",
              "    <tr>\n",
              "      <td>12</td>\n",
              "      <td>940aede382ccb332fab15d413217695ec44ca765</td>\n",
              "      <td>455.22</td>\n",
              "    </tr>\n",
              "    <tr>\n",
              "      <td>13</td>\n",
              "      <td>9ad714b116da76d878dd399d187fccc2dd13dd63</td>\n",
              "      <td>579.94</td>\n",
              "    </tr>\n",
              "    <tr>\n",
              "      <td>14</td>\n",
              "      <td>dd34464a4d780b12a089347ad580418ac57a3055</td>\n",
              "      <td>518.70</td>\n",
              "    </tr>\n",
              "    <tr>\n",
              "      <td>15</td>\n",
              "      <td>f837a4cb05a5fd59d20138182f5e8c721eadd584</td>\n",
              "      <td>471.25</td>\n",
              "    </tr>\n",
              "    <tr>\n",
              "      <td>16</td>\n",
              "      <td>fbfa8cde21a692b51fb86342110b4a334a0fcfdb</td>\n",
              "      <td>NaN</td>\n",
              "    </tr>\n",
              "    <tr>\n",
              "      <td>17</td>\n",
              "      <td>ca8477c8493b09f34d17bb287f9bacf2dd744c32</td>\n",
              "      <td>NaN</td>\n",
              "    </tr>\n",
              "    <tr>\n",
              "      <td>18</td>\n",
              "      <td>8b0c675d7fde14953668269d378c588f0df0498b</td>\n",
              "      <td>NaN</td>\n",
              "    </tr>\n",
              "    <tr>\n",
              "      <td>19</td>\n",
              "      <td>051c4f04fcbe385e1b3964aeb87f0a41d7f203d0</td>\n",
              "      <td>421.44</td>\n",
              "    </tr>\n",
              "    <tr>\n",
              "      <td>20</td>\n",
              "      <td>3d203727f27abd83b71732d88d8cb1cc099f363b</td>\n",
              "      <td>444.63</td>\n",
              "    </tr>\n",
              "    <tr>\n",
              "      <td>21</td>\n",
              "      <td>d30d31c8ff45094e9a992c63d4a6f68b245a341a</td>\n",
              "      <td>NaN</td>\n",
              "    </tr>\n",
              "    <tr>\n",
              "      <td>22</td>\n",
              "      <td>c0c6a803c271a955a7085a59cd3d4d43bcf7a1a6</td>\n",
              "      <td>NaN</td>\n",
              "    </tr>\n",
              "    <tr>\n",
              "      <td>23</td>\n",
              "      <td>cbc301183dec912f3513ca766bf03dd565f3a38f</td>\n",
              "      <td>469.66</td>\n",
              "    </tr>\n",
              "    <tr>\n",
              "      <td>24</td>\n",
              "      <td>856aa14bcd11bd289a3b970aab0ce1b166f2c50f</td>\n",
              "      <td>655.68</td>\n",
              "    </tr>\n",
              "    <tr>\n",
              "      <td>25</td>\n",
              "      <td>11282da1ee78c8db45a041db4c744e33df489df0</td>\n",
              "      <td>443.87</td>\n",
              "    </tr>\n",
              "    <tr>\n",
              "      <td>26</td>\n",
              "      <td>03c67f683a415c2ea09b582248bd4cb08528c19d</td>\n",
              "      <td>587.89</td>\n",
              "    </tr>\n",
              "    <tr>\n",
              "      <td>27</td>\n",
              "      <td>046e844fb06a07ba30b41521f0065a8d9c6e5024</td>\n",
              "      <td>433.34</td>\n",
              "    </tr>\n",
              "    <tr>\n",
              "      <td>28</td>\n",
              "      <td>b296bc595a212a2f89a35470a4bdbb3bfc3f7f1a</td>\n",
              "      <td>433.54</td>\n",
              "    </tr>\n",
              "    <tr>\n",
              "      <td>29</td>\n",
              "      <td>153eebe4d270fe850d2ede7f53cbc81a6f4ddf91</td>\n",
              "      <td>NaN</td>\n",
              "    </tr>\n",
              "    <tr>\n",
              "      <td>30</td>\n",
              "      <td>a4e821c6f16fdae0a26cbbb7018b75812dfd074b</td>\n",
              "      <td>NaN</td>\n",
              "    </tr>\n",
              "    <tr>\n",
              "      <td>31</td>\n",
              "      <td>f66c2e5ff22a95fa532e78c7c4bf1d145247211d</td>\n",
              "      <td>425.64</td>\n",
              "    </tr>\n",
              "    <tr>\n",
              "      <td>32</td>\n",
              "      <td>17f0dd5abd53dea135ffd020e8e8e0761b3a56aa</td>\n",
              "      <td>558.32</td>\n",
              "    </tr>\n",
              "    <tr>\n",
              "      <td>33</td>\n",
              "      <td>fbbd23fcfb37cf90b8c1f58eafcab62771f3cd71</td>\n",
              "      <td>479.80</td>\n",
              "    </tr>\n",
              "    <tr>\n",
              "      <td>34</td>\n",
              "      <td>a99286ac4fdce6f63b59569b2d8ed85a5c911ea3</td>\n",
              "      <td>512.26</td>\n",
              "    </tr>\n",
              "    <tr>\n",
              "      <td>35</td>\n",
              "      <td>f8d4f9a26c5f2023c33701a8888f9c02513a02c7</td>\n",
              "      <td>475.45</td>\n",
              "    </tr>\n",
              "    <tr>\n",
              "      <td>36</td>\n",
              "      <td>9785b7d9ca2e8dccfe60ecc0cd2abe1ff51906be</td>\n",
              "      <td>492.67</td>\n",
              "    </tr>\n",
              "    <tr>\n",
              "      <td>37</td>\n",
              "      <td>59bfa081e020013410d9f60f91813964ba749bb2</td>\n",
              "      <td>428.65</td>\n",
              "    </tr>\n",
              "    <tr>\n",
              "      <td>38</td>\n",
              "      <td>f5e069ee3bc95998464e8ff5da048b7f999921ed</td>\n",
              "      <td>444.37</td>\n",
              "    </tr>\n",
              "    <tr>\n",
              "      <td>39</td>\n",
              "      <td>e02240b518016d03a1b5bcc6d0a37b7a527ea93d</td>\n",
              "      <td>624.67</td>\n",
              "    </tr>\n",
              "    <tr>\n",
              "      <td>40</td>\n",
              "      <td>664f44258212a1f7e4086f2b4845d586c543fa3f</td>\n",
              "      <td>470.48</td>\n",
              "    </tr>\n",
              "    <tr>\n",
              "      <td>41</td>\n",
              "      <td>265cd7befa74a9f2a198fc57baec9858075f8419</td>\n",
              "      <td>444.26</td>\n",
              "    </tr>\n",
              "    <tr>\n",
              "      <td>42</td>\n",
              "      <td>6f9ac44919bbd204e0ef15185388fd2d4bc61253</td>\n",
              "      <td>478.25</td>\n",
              "    </tr>\n",
              "    <tr>\n",
              "      <td>43</td>\n",
              "      <td>78de1ee60b55766cc3eba4089e36c57139b66ebd</td>\n",
              "      <td>443.41</td>\n",
              "    </tr>\n",
              "    <tr>\n",
              "      <td>44</td>\n",
              "      <td>24550edb10f283ef4e953fd6a8fedbfa211bd456</td>\n",
              "      <td>NaN</td>\n",
              "    </tr>\n",
              "    <tr>\n",
              "      <td>45</td>\n",
              "      <td>1e61a474acdc043eb39a89c17fab34bd2ea1a940</td>\n",
              "      <td>430.82</td>\n",
              "    </tr>\n",
              "    <tr>\n",
              "      <td>46</td>\n",
              "      <td>940af68ded6af2875708611051aa7ff3f134d80b</td>\n",
              "      <td>468.93</td>\n",
              "    </tr>\n",
              "    <tr>\n",
              "      <td>47</td>\n",
              "      <td>e7ec3258f3b280c1ddf452d107fbdc9fb5a6b72e</td>\n",
              "      <td>484.55</td>\n",
              "    </tr>\n",
              "    <tr>\n",
              "      <td>48</td>\n",
              "      <td>c76ddf6e9f80984e901b12f9462a3cf029bea290</td>\n",
              "      <td>467.71</td>\n",
              "    </tr>\n",
              "    <tr>\n",
              "      <td>49</td>\n",
              "      <td>7d39df837488ca3fa6e512fd9e20ec7753b4c36d</td>\n",
              "      <td>448.72</td>\n",
              "    </tr>\n",
              "  </tbody>\n",
              "</table>\n",
              "</div>"
            ],
            "text/plain": [
              "                                NU_INSCRICAO  NU_NOTA_MT\n",
              "0   73ff9fcc02f0a99919906c942c2e1a1042cdcf98      436.02\n",
              "1   71a95f9f1b91a82c65ad94abbdf9f54e6066f968      448.63\n",
              "2   b38a03232f43b11c9d0788abaf060f7366053b6d      584.28\n",
              "3   70b682d9a3636be23f6120fa9d6b164eb3c6002d         NaN\n",
              "4   715494628a50142ce8cb17191cfe6d0f3cae0934      542.62\n",
              "5   e656d6bad65c93fb2880f1eba5037008c8e75774      474.13\n",
              "6   465cd2a6907fb37d9d8ad3c065f0e2dabdba9b13      518.57\n",
              "7   11539e86171bf07d3a36f09377d7f54ebcc8406a      438.05\n",
              "8   043c544a2104aa8a9849f1a703a08d37a2f16839      474.11\n",
              "9   76ba050e64ad100b856f0eaabd8f539d5c7dd185      455.78\n",
              "10  8b7c167ea7b55c8168ec60c3851b1b598a8fbd11         NaN\n",
              "11  db4da599aab5bb08dce27094a35fd3e36cd0abce         NaN\n",
              "12  940aede382ccb332fab15d413217695ec44ca765      455.22\n",
              "13  9ad714b116da76d878dd399d187fccc2dd13dd63      579.94\n",
              "14  dd34464a4d780b12a089347ad580418ac57a3055      518.70\n",
              "15  f837a4cb05a5fd59d20138182f5e8c721eadd584      471.25\n",
              "16  fbfa8cde21a692b51fb86342110b4a334a0fcfdb         NaN\n",
              "17  ca8477c8493b09f34d17bb287f9bacf2dd744c32         NaN\n",
              "18  8b0c675d7fde14953668269d378c588f0df0498b         NaN\n",
              "19  051c4f04fcbe385e1b3964aeb87f0a41d7f203d0      421.44\n",
              "20  3d203727f27abd83b71732d88d8cb1cc099f363b      444.63\n",
              "21  d30d31c8ff45094e9a992c63d4a6f68b245a341a         NaN\n",
              "22  c0c6a803c271a955a7085a59cd3d4d43bcf7a1a6         NaN\n",
              "23  cbc301183dec912f3513ca766bf03dd565f3a38f      469.66\n",
              "24  856aa14bcd11bd289a3b970aab0ce1b166f2c50f      655.68\n",
              "25  11282da1ee78c8db45a041db4c744e33df489df0      443.87\n",
              "26  03c67f683a415c2ea09b582248bd4cb08528c19d      587.89\n",
              "27  046e844fb06a07ba30b41521f0065a8d9c6e5024      433.34\n",
              "28  b296bc595a212a2f89a35470a4bdbb3bfc3f7f1a      433.54\n",
              "29  153eebe4d270fe850d2ede7f53cbc81a6f4ddf91         NaN\n",
              "30  a4e821c6f16fdae0a26cbbb7018b75812dfd074b         NaN\n",
              "31  f66c2e5ff22a95fa532e78c7c4bf1d145247211d      425.64\n",
              "32  17f0dd5abd53dea135ffd020e8e8e0761b3a56aa      558.32\n",
              "33  fbbd23fcfb37cf90b8c1f58eafcab62771f3cd71      479.80\n",
              "34  a99286ac4fdce6f63b59569b2d8ed85a5c911ea3      512.26\n",
              "35  f8d4f9a26c5f2023c33701a8888f9c02513a02c7      475.45\n",
              "36  9785b7d9ca2e8dccfe60ecc0cd2abe1ff51906be      492.67\n",
              "37  59bfa081e020013410d9f60f91813964ba749bb2      428.65\n",
              "38  f5e069ee3bc95998464e8ff5da048b7f999921ed      444.37\n",
              "39  e02240b518016d03a1b5bcc6d0a37b7a527ea93d      624.67\n",
              "40  664f44258212a1f7e4086f2b4845d586c543fa3f      470.48\n",
              "41  265cd7befa74a9f2a198fc57baec9858075f8419      444.26\n",
              "42  6f9ac44919bbd204e0ef15185388fd2d4bc61253      478.25\n",
              "43  78de1ee60b55766cc3eba4089e36c57139b66ebd      443.41\n",
              "44  24550edb10f283ef4e953fd6a8fedbfa211bd456         NaN\n",
              "45  1e61a474acdc043eb39a89c17fab34bd2ea1a940      430.82\n",
              "46  940af68ded6af2875708611051aa7ff3f134d80b      468.93\n",
              "47  e7ec3258f3b280c1ddf452d107fbdc9fb5a6b72e      484.55\n",
              "48  c76ddf6e9f80984e901b12f9462a3cf029bea290      467.71\n",
              "49  7d39df837488ca3fa6e512fd9e20ec7753b4c36d      448.72"
            ]
          },
          "metadata": {
            "tags": []
          },
          "execution_count": 22
        }
      ]
    },
    {
      "cell_type": "code",
      "metadata": {
        "id": "LdQqfbpUaHZn",
        "colab_type": "code",
        "colab": {}
      },
      "source": [
        "df_resposta.to_csv('answer.csv', index=False, header=True)"
      ],
      "execution_count": 0,
      "outputs": []
    },
    {
      "cell_type": "code",
      "metadata": {
        "id": "ET7HXW9_aHZp",
        "colab_type": "code",
        "colab": {}
      },
      "source": [
        ""
      ],
      "execution_count": 0,
      "outputs": []
    },
    {
      "cell_type": "code",
      "metadata": {
        "id": "c4CYJhRTaHZr",
        "colab_type": "code",
        "colab": {}
      },
      "source": [
        ""
      ],
      "execution_count": 0,
      "outputs": []
    },
    {
      "cell_type": "code",
      "metadata": {
        "id": "tLU69DXKaHZt",
        "colab_type": "code",
        "colab": {}
      },
      "source": [
        ""
      ],
      "execution_count": 0,
      "outputs": []
    },
    {
      "cell_type": "code",
      "metadata": {
        "id": "ifVlvn8xaHZv",
        "colab_type": "code",
        "colab": {}
      },
      "source": [
        ""
      ],
      "execution_count": 0,
      "outputs": []
    }
  ]
}