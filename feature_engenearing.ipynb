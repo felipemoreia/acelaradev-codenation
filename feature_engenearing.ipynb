{
  "nbformat": 4,
  "nbformat_minor": 0,
  "metadata": {
    "kernelspec": {
      "display_name": "Python 3",
      "language": "python",
      "name": "python3"
    },
    "language_info": {
      "codemirror_mode": {
        "name": "ipython",
        "version": 3
      },
      "file_extension": ".py",
      "mimetype": "text/x-python",
      "name": "python",
      "nbconvert_exporter": "python",
      "pygments_lexer": "ipython3",
      "version": "3.7.6"
    },
    "colab": {
      "name": "feature_engenearing.ipynb",
      "provenance": [],
      "collapsed_sections": [
        "wttkLG6-ZHvz",
        "RhZgR8QAZHv_",
        "LNAJ8qFvZHwK",
        "sd9sKG9oZHwb",
        "6KlRaDZIZHwp"
      ],
      "include_colab_link": true
    }
  },
  "cells": [
    {
      "cell_type": "markdown",
      "metadata": {
        "id": "view-in-github",
        "colab_type": "text"
      },
      "source": [
        "<a href=\"https://colab.research.google.com/github/felipemoreia/acelaradev-codenation/blob/master/feature_engenearing.ipynb\" target=\"_parent\"><img src=\"https://colab.research.google.com/assets/colab-badge.svg\" alt=\"Open In Colab\"/></a>"
      ]
    },
    {
      "cell_type": "markdown",
      "metadata": {
        "id": "ODKEudI4ZHvR",
        "colab_type": "text"
      },
      "source": [
        "# Desafio 6\n",
        "\n",
        "Neste desafio, vamos praticar _feature engineering_, um dos processos mais importantes e trabalhosos de ML. Utilizaremos o _data set_ [Countries of the world](https://www.kaggle.com/fernandol/countries-of-the-world), que contém dados sobre os 227 países do mundo com informações sobre tamanho da população, área, imigração e setores de produção.\n",
        "\n",
        "> Obs.: Por favor, não modifique o nome das funções de resposta."
      ]
    },
    {
      "cell_type": "markdown",
      "metadata": {
        "id": "ZlEi1fiiZHvS",
        "colab_type": "text"
      },
      "source": [
        "## _Setup_ geral"
      ]
    },
    {
      "cell_type": "code",
      "metadata": {
        "id": "SsfweyiEZHvT",
        "colab_type": "code",
        "colab": {}
      },
      "source": [
        "import pandas as pd\n",
        "import numpy as np\n",
        "import seaborn as sns\n",
        "import sklearn as sk"
      ],
      "execution_count": 0,
      "outputs": []
    },
    {
      "cell_type": "code",
      "metadata": {
        "id": "o_ddQQbhZHvW",
        "colab_type": "code",
        "colab": {}
      },
      "source": [
        "# Algumas configurações para o matplotlib.\n",
        "#%matplotlib inline\n",
        "\n",
        "from IPython.core.pylabtools import figsize\n",
        "\n",
        "\n",
        "figsize(12, 8)\n",
        "\n",
        "sns.set()"
      ],
      "execution_count": 0,
      "outputs": []
    },
    {
      "cell_type": "code",
      "metadata": {
        "scrolled": false,
        "id": "9vHeEpY8ZHvZ",
        "colab_type": "code",
        "colab": {}
      },
      "source": [
        "countries = pd.read_csv(\"countries.csv\")"
      ],
      "execution_count": 0,
      "outputs": []
    },
    {
      "cell_type": "code",
      "metadata": {
        "id": "ZTzovdGDZHvb",
        "colab_type": "code",
        "colab": {},
        "outputId": "276fba76-31c3-408d-a13e-61952117e8de"
      },
      "source": [
        "new_column_names = [\n",
        "    \"Country\", \"Region\", \"Population\", \"Area\", \"Pop_density\", \"Coastline_ratio\",\n",
        "    \"Net_migration\", \"Infant_mortality\", \"GDP\", \"Literacy\", \"Phones_per_1000\",\n",
        "    \"Arable\", \"Crops\", \"Other\", \"Climate\", \"Birthrate\", \"Deathrate\", \"Agriculture\",\n",
        "    \"Industry\", \"Service\"\n",
        "]\n",
        "\n",
        "countries.columns = new_column_names\n",
        "\n",
        "countries.head(5)"
      ],
      "execution_count": 0,
      "outputs": [
        {
          "output_type": "execute_result",
          "data": {
            "text/html": [
              "<div>\n",
              "<style scoped>\n",
              "    .dataframe tbody tr th:only-of-type {\n",
              "        vertical-align: middle;\n",
              "    }\n",
              "\n",
              "    .dataframe tbody tr th {\n",
              "        vertical-align: top;\n",
              "    }\n",
              "\n",
              "    .dataframe thead th {\n",
              "        text-align: right;\n",
              "    }\n",
              "</style>\n",
              "<table border=\"1\" class=\"dataframe\">\n",
              "  <thead>\n",
              "    <tr style=\"text-align: right;\">\n",
              "      <th></th>\n",
              "      <th>Country</th>\n",
              "      <th>Region</th>\n",
              "      <th>Population</th>\n",
              "      <th>Area</th>\n",
              "      <th>Pop_density</th>\n",
              "      <th>Coastline_ratio</th>\n",
              "      <th>Net_migration</th>\n",
              "      <th>Infant_mortality</th>\n",
              "      <th>GDP</th>\n",
              "      <th>Literacy</th>\n",
              "      <th>Phones_per_1000</th>\n",
              "      <th>Arable</th>\n",
              "      <th>Crops</th>\n",
              "      <th>Other</th>\n",
              "      <th>Climate</th>\n",
              "      <th>Birthrate</th>\n",
              "      <th>Deathrate</th>\n",
              "      <th>Agriculture</th>\n",
              "      <th>Industry</th>\n",
              "      <th>Service</th>\n",
              "    </tr>\n",
              "  </thead>\n",
              "  <tbody>\n",
              "    <tr>\n",
              "      <th>0</th>\n",
              "      <td>Afghanistan</td>\n",
              "      <td>ASIA (EX. NEAR EAST)</td>\n",
              "      <td>31056997</td>\n",
              "      <td>647500</td>\n",
              "      <td>48,0</td>\n",
              "      <td>0,00</td>\n",
              "      <td>23,06</td>\n",
              "      <td>163,07</td>\n",
              "      <td>700.0</td>\n",
              "      <td>36,0</td>\n",
              "      <td>3,2</td>\n",
              "      <td>12,13</td>\n",
              "      <td>0,22</td>\n",
              "      <td>87,65</td>\n",
              "      <td>1</td>\n",
              "      <td>46,6</td>\n",
              "      <td>20,34</td>\n",
              "      <td>0,38</td>\n",
              "      <td>0,24</td>\n",
              "      <td>0,38</td>\n",
              "    </tr>\n",
              "    <tr>\n",
              "      <th>1</th>\n",
              "      <td>Albania</td>\n",
              "      <td>EASTERN EUROPE</td>\n",
              "      <td>3581655</td>\n",
              "      <td>28748</td>\n",
              "      <td>124,6</td>\n",
              "      <td>1,26</td>\n",
              "      <td>-4,93</td>\n",
              "      <td>21,52</td>\n",
              "      <td>4500.0</td>\n",
              "      <td>86,5</td>\n",
              "      <td>71,2</td>\n",
              "      <td>21,09</td>\n",
              "      <td>4,42</td>\n",
              "      <td>74,49</td>\n",
              "      <td>3</td>\n",
              "      <td>15,11</td>\n",
              "      <td>5,22</td>\n",
              "      <td>0,232</td>\n",
              "      <td>0,188</td>\n",
              "      <td>0,579</td>\n",
              "    </tr>\n",
              "    <tr>\n",
              "      <th>2</th>\n",
              "      <td>Algeria</td>\n",
              "      <td>NORTHERN AFRICA</td>\n",
              "      <td>32930091</td>\n",
              "      <td>2381740</td>\n",
              "      <td>13,8</td>\n",
              "      <td>0,04</td>\n",
              "      <td>-0,39</td>\n",
              "      <td>31</td>\n",
              "      <td>6000.0</td>\n",
              "      <td>70,0</td>\n",
              "      <td>78,1</td>\n",
              "      <td>3,22</td>\n",
              "      <td>0,25</td>\n",
              "      <td>96,53</td>\n",
              "      <td>1</td>\n",
              "      <td>17,14</td>\n",
              "      <td>4,61</td>\n",
              "      <td>0,101</td>\n",
              "      <td>0,6</td>\n",
              "      <td>0,298</td>\n",
              "    </tr>\n",
              "    <tr>\n",
              "      <th>3</th>\n",
              "      <td>American Samoa</td>\n",
              "      <td>OCEANIA</td>\n",
              "      <td>57794</td>\n",
              "      <td>199</td>\n",
              "      <td>290,4</td>\n",
              "      <td>58,29</td>\n",
              "      <td>-20,71</td>\n",
              "      <td>9,27</td>\n",
              "      <td>8000.0</td>\n",
              "      <td>97,0</td>\n",
              "      <td>259,5</td>\n",
              "      <td>10</td>\n",
              "      <td>15</td>\n",
              "      <td>75</td>\n",
              "      <td>2</td>\n",
              "      <td>22,46</td>\n",
              "      <td>3,27</td>\n",
              "      <td>NaN</td>\n",
              "      <td>NaN</td>\n",
              "      <td>NaN</td>\n",
              "    </tr>\n",
              "    <tr>\n",
              "      <th>4</th>\n",
              "      <td>Andorra</td>\n",
              "      <td>WESTERN EUROPE</td>\n",
              "      <td>71201</td>\n",
              "      <td>468</td>\n",
              "      <td>152,1</td>\n",
              "      <td>0,00</td>\n",
              "      <td>6,6</td>\n",
              "      <td>4,05</td>\n",
              "      <td>19000.0</td>\n",
              "      <td>100,0</td>\n",
              "      <td>497,2</td>\n",
              "      <td>2,22</td>\n",
              "      <td>0</td>\n",
              "      <td>97,78</td>\n",
              "      <td>3</td>\n",
              "      <td>8,71</td>\n",
              "      <td>6,25</td>\n",
              "      <td>NaN</td>\n",
              "      <td>NaN</td>\n",
              "      <td>NaN</td>\n",
              "    </tr>\n",
              "  </tbody>\n",
              "</table>\n",
              "</div>"
            ],
            "text/plain": [
              "           Country                               Region  Population     Area  \\\n",
              "0     Afghanistan         ASIA (EX. NEAR EAST)             31056997   647500   \n",
              "1         Albania   EASTERN EUROPE                          3581655    28748   \n",
              "2         Algeria   NORTHERN AFRICA                        32930091  2381740   \n",
              "3  American Samoa   OCEANIA                                   57794      199   \n",
              "4         Andorra   WESTERN EUROPE                            71201      468   \n",
              "\n",
              "  Pop_density Coastline_ratio Net_migration Infant_mortality      GDP  \\\n",
              "0        48,0            0,00         23,06           163,07    700.0   \n",
              "1       124,6            1,26         -4,93            21,52   4500.0   \n",
              "2        13,8            0,04         -0,39               31   6000.0   \n",
              "3       290,4           58,29        -20,71             9,27   8000.0   \n",
              "4       152,1            0,00           6,6             4,05  19000.0   \n",
              "\n",
              "  Literacy Phones_per_1000 Arable Crops  Other Climate Birthrate Deathrate  \\\n",
              "0     36,0             3,2  12,13  0,22  87,65       1      46,6     20,34   \n",
              "1     86,5            71,2  21,09  4,42  74,49       3     15,11      5,22   \n",
              "2     70,0            78,1   3,22  0,25  96,53       1     17,14      4,61   \n",
              "3     97,0           259,5     10    15     75       2     22,46      3,27   \n",
              "4    100,0           497,2   2,22     0  97,78       3      8,71      6,25   \n",
              "\n",
              "  Agriculture Industry Service  \n",
              "0        0,38     0,24    0,38  \n",
              "1       0,232    0,188   0,579  \n",
              "2       0,101      0,6   0,298  \n",
              "3         NaN      NaN     NaN  \n",
              "4         NaN      NaN     NaN  "
            ]
          },
          "metadata": {
            "tags": []
          },
          "execution_count": 4
        }
      ]
    },
    {
      "cell_type": "markdown",
      "metadata": {
        "id": "sWgBHO30ZHve",
        "colab_type": "text"
      },
      "source": [
        "## Observações\n",
        "\n",
        "Esse _data set_ ainda precisa de alguns ajustes iniciais. Primeiro, note que as variáveis numéricas estão usando vírgula como separador decimal e estão codificadas como strings. Corrija isso antes de continuar: transforme essas variáveis em numéricas adequadamente.\n",
        "\n",
        "Além disso, as variáveis `Country` e `Region` possuem espaços a mais no começo e no final da string. Você pode utilizar o método `str.strip()` para remover esses espaços."
      ]
    },
    {
      "cell_type": "markdown",
      "metadata": {
        "id": "4gmszkz8ZHvf",
        "colab_type": "text"
      },
      "source": [
        "## Inicia sua análise a partir daqui"
      ]
    },
    {
      "cell_type": "code",
      "metadata": {
        "id": "DxlZ8TqUZHvg",
        "colab_type": "code",
        "colab": {},
        "outputId": "be624f00-cc35-4c44-c9c6-75902ee97dd4"
      },
      "source": [
        "countries.dtypes"
      ],
      "execution_count": 0,
      "outputs": [
        {
          "output_type": "execute_result",
          "data": {
            "text/plain": [
              "Country              object\n",
              "Region               object\n",
              "Population            int64\n",
              "Area                  int64\n",
              "Pop_density          object\n",
              "Coastline_ratio      object\n",
              "Net_migration        object\n",
              "Infant_mortality     object\n",
              "GDP                 float64\n",
              "Literacy             object\n",
              "Phones_per_1000      object\n",
              "Arable               object\n",
              "Crops                object\n",
              "Other                object\n",
              "Climate              object\n",
              "Birthrate            object\n",
              "Deathrate            object\n",
              "Agriculture          object\n",
              "Industry             object\n",
              "Service              object\n",
              "dtype: object"
            ]
          },
          "metadata": {
            "tags": []
          },
          "execution_count": 5
        }
      ]
    },
    {
      "cell_type": "code",
      "metadata": {
        "id": "u5_G7nfmZHvi",
        "colab_type": "code",
        "colab": {}
      },
      "source": [
        "numericas =  [\"Population\", \"Area\", \"Pop_density\", \"Coastline_ratio\",\n",
        "    \"Net_migration\", \"Infant_mortality\", \"GDP\", \"Literacy\", \"Phones_per_1000\",\n",
        "    \"Arable\", \"Crops\", \"Other\", \"Climate\", \"Birthrate\", \"Deathrate\", \"Agriculture\",\n",
        "    \"Industry\", \"Service\"]"
      ],
      "execution_count": 0,
      "outputs": []
    },
    {
      "cell_type": "code",
      "metadata": {
        "id": "6BBsybrNZHvl",
        "colab_type": "code",
        "colab": {}
      },
      "source": [
        "nao_numericas = [\"Pop_density\", \"Coastline_ratio\",\n",
        "    \"Net_migration\", \"Infant_mortality\", \"Literacy\", \"Phones_per_1000\",\n",
        "    \"Arable\", \"Crops\", \"Other\", \"Climate\", \"Birthrate\", \"Deathrate\", \"Agriculture\",\n",
        "    \"Industry\", \"Service\"]\n",
        "\n",
        "for x in nao_numericas:\n",
        "    countries[x] = countries[x].str.replace(',','.')\n",
        "    countries[x] = countries[x].astype('float64')"
      ],
      "execution_count": 0,
      "outputs": []
    },
    {
      "cell_type": "code",
      "metadata": {
        "id": "ifvCGGUCZHvn",
        "colab_type": "code",
        "colab": {}
      },
      "source": [
        "nominais = [\"Country\", \"Region\"]\n",
        "\n",
        "for x in nominais:\n",
        "    countries[x] = countries[x].str.strip()"
      ],
      "execution_count": 0,
      "outputs": []
    },
    {
      "cell_type": "markdown",
      "metadata": {
        "id": "CjnOOvZoZHvq",
        "colab_type": "text"
      },
      "source": [
        "## Questão 1\n",
        "\n",
        "Quais são as regiões (variável `Region`) presentes no _data set_? Retorne uma lista com as regiões únicas do _data set_ com os espaços à frente e atrás da string removidos (mas mantenha pontuação: ponto, hífen etc) e ordenadas em ordem alfabética."
      ]
    },
    {
      "cell_type": "code",
      "metadata": {
        "id": "liI3e8vcZHvr",
        "colab_type": "code",
        "colab": {}
      },
      "source": [
        "def q1():\n",
        "    lista_regioes = list(countries['Region'].unique())\n",
        "    lista_regioes = sorted(lista_regioes)\n",
        "    return lista_regioes"
      ],
      "execution_count": 0,
      "outputs": []
    },
    {
      "cell_type": "code",
      "metadata": {
        "id": "gX3s-K51ZHvt",
        "colab_type": "code",
        "colab": {},
        "outputId": "72f52538-afff-46b2-cf4a-5d6106758dea"
      },
      "source": [
        "q1()"
      ],
      "execution_count": 0,
      "outputs": [
        {
          "output_type": "execute_result",
          "data": {
            "text/plain": [
              "['ASIA (EX. NEAR EAST)',\n",
              " 'BALTICS',\n",
              " 'C.W. OF IND. STATES',\n",
              " 'EASTERN EUROPE',\n",
              " 'LATIN AMER. & CARIB',\n",
              " 'NEAR EAST',\n",
              " 'NORTHERN AFRICA',\n",
              " 'NORTHERN AMERICA',\n",
              " 'OCEANIA',\n",
              " 'SUB-SAHARAN AFRICA',\n",
              " 'WESTERN EUROPE']"
            ]
          },
          "metadata": {
            "tags": []
          },
          "execution_count": 10
        }
      ]
    },
    {
      "cell_type": "markdown",
      "metadata": {
        "id": "wttkLG6-ZHvz",
        "colab_type": "text"
      },
      "source": [
        "## Questão 2\n",
        "\n",
        "Discretizando a variável `Pop_density` em 10 intervalos com `KBinsDiscretizer`, seguindo o encode `ordinal` e estratégia `quantile`, quantos países se encontram acima do 90º percentil? Responda como um único escalar inteiro."
      ]
    },
    {
      "cell_type": "code",
      "metadata": {
        "id": "76rPg2xkZHv0",
        "colab_type": "code",
        "colab": {}
      },
      "source": [
        "from sklearn.preprocessing import KBinsDiscretizer"
      ],
      "execution_count": 0,
      "outputs": []
    },
    {
      "cell_type": "code",
      "metadata": {
        "id": "Zw5XnfCPZHv2",
        "colab_type": "code",
        "colab": {}
      },
      "source": [
        "def q2():\n",
        "    target = countries['Pop_density'].reset_index() \n",
        "    discretizer = KBinsDiscretizer(n_bins=10, encode='ordinal', strategy='quantile')\n",
        "    target_discretizado = discretizer.fit_transform(target)\n",
        "    target = pd.DataFrame(target_discretizado)\n",
        "    lista_final = list(target[target[0]==9].count())\n",
        "    return int(lista_final[0])"
      ],
      "execution_count": 0,
      "outputs": []
    },
    {
      "cell_type": "code",
      "metadata": {
        "id": "wj0FKW9bZHv4",
        "colab_type": "code",
        "colab": {},
        "outputId": "a6bbd6ac-3d45-4578-9656-cd796cc47a35"
      },
      "source": [
        "q2()"
      ],
      "execution_count": 0,
      "outputs": [
        {
          "output_type": "execute_result",
          "data": {
            "text/plain": [
              "23"
            ]
          },
          "metadata": {
            "tags": []
          },
          "execution_count": 13
        }
      ]
    },
    {
      "cell_type": "markdown",
      "metadata": {
        "id": "U_aj3_MfZHv6",
        "colab_type": "text"
      },
      "source": [
        "# Questão 3\n",
        "\n",
        "Se codificarmos as variáveis `Region` e `Climate` usando _one-hot encoding_, quantos novos atributos seriam criados? Responda como um único escalar."
      ]
    },
    {
      "cell_type": "code",
      "metadata": {
        "id": "JAHcfWaKZHv6",
        "colab_type": "code",
        "colab": {}
      },
      "source": [
        "num_regions = int(countries['Region'].nunique())\n",
        "num_climate = int(countries['Climate'].nunique(dropna=False))\n",
        "num_novas_variaveis = num_regions + num_climate"
      ],
      "execution_count": 0,
      "outputs": []
    },
    {
      "cell_type": "code",
      "metadata": {
        "id": "-jEPQRMAZHv9",
        "colab_type": "code",
        "colab": {}
      },
      "source": [
        "def q3():\n",
        "    num_regions = int(countries['Region'].nunique())\n",
        "    num_climate = int(countries['Climate'].nunique())\n",
        "    num_novas_variaveis = num_regions + num_climate\n",
        "    return num_novas_variaveis"
      ],
      "execution_count": 0,
      "outputs": []
    },
    {
      "cell_type": "markdown",
      "metadata": {
        "id": "RhZgR8QAZHv_",
        "colab_type": "text"
      },
      "source": [
        "## Questão 4\n",
        "\n",
        "Aplique o seguinte _pipeline_:\n",
        "\n",
        "1. Preencha as variáveis do tipo `int64` e `float64` com suas respectivas medianas.\n",
        "2. Padronize essas variáveis.\n",
        "\n",
        "Após aplicado o _pipeline_ descrito acima aos dados (somente nas variáveis dos tipos especificados), aplique o mesmo _pipeline_ (ou `ColumnTransformer`) ao dado abaixo. Qual o valor da variável `Arable` após o _pipeline_? Responda como um único float arredondado para três casas decimais."
      ]
    },
    {
      "cell_type": "code",
      "metadata": {
        "id": "0K9VQUP9ZHwA",
        "colab_type": "code",
        "colab": {}
      },
      "source": [
        "from sklearn.pipeline import Pipeline\n",
        "from sklearn.impute import SimpleImputer\n",
        "from sklearn.preprocessing import StandardScaler"
      ],
      "execution_count": 0,
      "outputs": []
    },
    {
      "cell_type": "code",
      "metadata": {
        "id": "GiDCs26mZHwC",
        "colab_type": "code",
        "colab": {},
        "outputId": "4d107e9c-e52d-462e-e669-e1aa43f527ed"
      },
      "source": [
        "countries.isna().sum()"
      ],
      "execution_count": 0,
      "outputs": [
        {
          "output_type": "execute_result",
          "data": {
            "text/plain": [
              "Country              0\n",
              "Region               0\n",
              "Population           0\n",
              "Area                 0\n",
              "Pop_density          0\n",
              "Coastline_ratio      0\n",
              "Net_migration        3\n",
              "Infant_mortality     3\n",
              "GDP                  1\n",
              "Literacy            18\n",
              "Phones_per_1000      4\n",
              "Arable               2\n",
              "Crops                2\n",
              "Other                2\n",
              "Climate             22\n",
              "Birthrate            3\n",
              "Deathrate            4\n",
              "Agriculture         15\n",
              "Industry            16\n",
              "Service             15\n",
              "dtype: int64"
            ]
          },
          "metadata": {
            "tags": []
          },
          "execution_count": 17
        }
      ]
    },
    {
      "cell_type": "code",
      "metadata": {
        "id": "pwC-q86jZHwE",
        "colab_type": "code",
        "colab": {}
      },
      "source": [
        "test_country = [\n",
        "    'Test Country', 'NEAR EAST', -0.19032480757326514,\n",
        "    -0.3232636124824411, -0.04421734470810142, -0.27528113360605316,\n",
        "    0.13255850810281325, -0.8054845935643491, 1.0119784924248225,\n",
        "    0.6189182532646624, 1.0074863283776458, 0.20239896852403538,\n",
        "    -0.043678728558593366, -0.13929748680369286, 1.3163604645710438,\n",
        "    -0.3699637766938669, -0.6149300604558857, -0.854369594993175,\n",
        "    0.263445277972641, 0.5712416961268142\n",
        "]"
      ],
      "execution_count": 0,
      "outputs": []
    },
    {
      "cell_type": "code",
      "metadata": {
        "id": "G6bN4xApZHwG",
        "colab_type": "code",
        "colab": {}
      },
      "source": [
        "def q4():\n",
        "    pipeline = Pipeline(steps=[\n",
        "    ('simpleimputer', SimpleImputer(missing_values =np.nan, strategy = \"median\")),\n",
        "    ('standardscaler', StandardScaler())\n",
        "    ])\n",
        "    x = countries.drop(nominais, axis=1)\n",
        "    pipeline.fit_transform(x)\n",
        "    df_test_country = pd.DataFrame([test_country], columns=new_column_names)\n",
        "    x_test = df_test_country.drop(nominais, axis=1)\n",
        "    x_test_transformed = pipeline.transform(x_test)\n",
        "    x_test_final = pd.DataFrame(x_test_transformed, columns=numericas)\n",
        "    answer = round(float(x_test_final['Arable'][0]),3)\n",
        "    return answer"
      ],
      "execution_count": 0,
      "outputs": []
    },
    {
      "cell_type": "code",
      "metadata": {
        "id": "nKkNheXXZHwI",
        "colab_type": "code",
        "colab": {},
        "outputId": "ee7d6f45-89be-41ac-c133-274e5439f1b8"
      },
      "source": [
        "q4()"
      ],
      "execution_count": 0,
      "outputs": [
        {
          "output_type": "execute_result",
          "data": {
            "text/plain": [
              "-1.047"
            ]
          },
          "metadata": {
            "tags": []
          },
          "execution_count": 20
        }
      ]
    },
    {
      "cell_type": "markdown",
      "metadata": {
        "id": "LNAJ8qFvZHwK",
        "colab_type": "text"
      },
      "source": [
        "## Questão 5\n",
        "\n",
        "Descubra o número de _outliers_ da variável `Net_migration` segundo o método do _boxplot_, ou seja, usando a lógica:\n",
        "\n",
        "$$x \\notin [Q1 - 1.5 \\times \\text{IQR}, Q3 + 1.5 \\times \\text{IQR}] \\Rightarrow x \\text{ é outlier}$$\n",
        "\n",
        "que se encontram no grupo inferior e no grupo superior.\n",
        "\n",
        "Você deveria remover da análise as observações consideradas _outliers_ segundo esse método? Responda como uma tupla de três elementos `(outliers_abaixo, outliers_acima, removeria?)` ((int, int, bool))."
      ]
    },
    {
      "cell_type": "code",
      "metadata": {
        "id": "YZ1oQApYZHwK",
        "colab_type": "code",
        "colab": {},
        "outputId": "9cf16cc0-a6c2-4582-dca0-109bffd417e3"
      },
      "source": [
        "countries['Net_migration'].plot(kind='box')    "
      ],
      "execution_count": 0,
      "outputs": [
        {
          "output_type": "execute_result",
          "data": {
            "text/plain": [
              "<matplotlib.axes._subplots.AxesSubplot at 0x7fc6193bc110>"
            ]
          },
          "metadata": {
            "tags": []
          },
          "execution_count": 28
        },
        {
          "output_type": "display_data",
          "data": {
            "image/png": "[encoded data removed]",
            "text/plain": [
              "<Figure size 864x576 with 1 Axes>"
            ]
          },
          "metadata": {
            "tags": []
          }
        }
      ]
    },
    {
      "cell_type": "code",
      "metadata": {
        "id": "S6Jcu06uZHwM",
        "colab_type": "code",
        "colab": {}
      },
      "source": [
        "decision = False\n"
      ],
      "execution_count": 0,
      "outputs": []
    },
    {
      "cell_type": "code",
      "metadata": {
        "id": "P5iwcq1eZHwP",
        "colab_type": "code",
        "colab": {}
      },
      "source": [
        "quartile1 = countries['Net_migration'].quantile(0.25)\n",
        "quartile3 = countries['Net_migration'].quantile(0.75)\n",
        "iqr = quartile3 - quartile1"
      ],
      "execution_count": 0,
      "outputs": []
    },
    {
      "cell_type": "code",
      "metadata": {
        "id": "I0la3IWsZHwS",
        "colab_type": "code",
        "colab": {},
        "outputId": "fa1f00ad-8502-434d-883e-ffc7cb4afd84"
      },
      "source": [
        "boxploteq = (quartile1 - 1.5*iqr, quartile3 + 1.5*iqr)\n",
        "boxploteq"
      ],
      "execution_count": 0,
      "outputs": [
        {
          "output_type": "execute_result",
          "data": {
            "text/plain": [
              "(-3.8149999999999995, 3.885)"
            ]
          },
          "metadata": {
            "tags": []
          },
          "execution_count": 33
        }
      ]
    },
    {
      "cell_type": "code",
      "metadata": {
        "id": "48XmTYhqZHwV",
        "colab_type": "code",
        "colab": {}
      },
      "source": [
        "outliers_1 = len(countries[countries['Net_migration']<boxploteq[0]])\n",
        "outliers_2 = len(countries[countries['Net_migration']>boxploteq[1]])\n"
      ],
      "execution_count": 0,
      "outputs": []
    },
    {
      "cell_type": "code",
      "metadata": {
        "id": "dmbY8mvTZHwX",
        "colab_type": "code",
        "colab": {},
        "outputId": "9b07fe25-3b9e-494b-fa0c-4e750dd5b840"
      },
      "source": [
        "print(len(countries['Net_migration']),'É o número total de observações')\n",
        "print(outliers_1, 'É o número de outliers inferiores ao intervalo do boxplot')\n",
        "print(outliers_2, 'É o número de outliers superiores ao intervalo do boxplot')"
      ],
      "execution_count": 0,
      "outputs": [
        {
          "output_type": "stream",
          "text": [
            "227 É o número total de observações\n",
            "24 É o número de outliers inferiores ao intervalo do boxplot\n",
            "26 É o número de outliers superiores ao intervalo do boxplot\n"
          ],
          "name": "stdout"
        }
      ]
    },
    {
      "cell_type": "code",
      "metadata": {
        "id": "MlSXK5RmZHwZ",
        "colab_type": "code",
        "colab": {}
      },
      "source": [
        "def q5():\n",
        "    decision = False\n",
        "    return (outliers_1, outliers_2, decision)\n"
      ],
      "execution_count": 0,
      "outputs": []
    },
    {
      "cell_type": "markdown",
      "metadata": {
        "id": "sd9sKG9oZHwb",
        "colab_type": "text"
      },
      "source": [
        "## Questão 6\n",
        "Para as questões 6 e 7 utilize a biblioteca `fetch_20newsgroups` de datasets de test do `sklearn`\n",
        "\n",
        "Considere carregar as seguintes categorias e o dataset `newsgroups`:\n",
        "\n",
        "```\n",
        "categories = ['sci.electronics', 'comp.graphics', 'rec.motorcycles']\n",
        "newsgroup = fetch_20newsgroups(subset=\"train\", categories=categories, shuffle=True, random_state=42)\n",
        "```\n",
        "\n",
        "\n",
        "Aplique `CountVectorizer` ao _data set_ `newsgroups` e descubra o número de vezes que a palavra _phone_ aparece no corpus. Responda como um único escalar."
      ]
    },
    {
      "cell_type": "code",
      "metadata": {
        "id": "GGliII6XZHwb",
        "colab_type": "code",
        "colab": {}
      },
      "source": [
        "from sklearn.datasets import fetch_20newsgroups\n",
        "from sklearn.feature_extraction.text import CountVectorizer"
      ],
      "execution_count": 0,
      "outputs": []
    },
    {
      "cell_type": "code",
      "metadata": {
        "id": "81w5w3vKZHwd",
        "colab_type": "code",
        "colab": {}
      },
      "source": [
        "categories = ['sci.electronics', 'comp.graphics', 'rec.motorcycles']\n",
        "newsgroup = fetch_20newsgroups(subset=\"train\", categories=categories, shuffle=True, random_state=42)"
      ],
      "execution_count": 0,
      "outputs": []
    },
    {
      "cell_type": "code",
      "metadata": {
        "id": "6FA0WguaZHwf",
        "colab_type": "code",
        "colab": {}
      },
      "source": [
        "CV = CountVectorizer()\n",
        "df_vectorized = CV.fit_transform(newsgroup.data)"
      ],
      "execution_count": 0,
      "outputs": []
    },
    {
      "cell_type": "code",
      "metadata": {
        "id": "ZVoqlBK4ZHwh",
        "colab_type": "code",
        "colab": {}
      },
      "source": [
        "indice = CV.vocabulary_.get(\"phone\")\n",
        "phone = df_vectorized[:,indice]"
      ],
      "execution_count": 0,
      "outputs": []
    },
    {
      "cell_type": "code",
      "metadata": {
        "id": "ytMsVZqXZHwk",
        "colab_type": "code",
        "colab": {}
      },
      "source": [
        "phone_counts = int(phone.sum())"
      ],
      "execution_count": 0,
      "outputs": []
    },
    {
      "cell_type": "code",
      "metadata": {
        "id": "YNEzYk5VZHwl",
        "colab_type": "code",
        "colab": {}
      },
      "source": [
        "def q6():\n",
        "    return phone_counts"
      ],
      "execution_count": 0,
      "outputs": []
    },
    {
      "cell_type": "code",
      "metadata": {
        "id": "x-igX2b_ZHwn",
        "colab_type": "code",
        "colab": {},
        "outputId": "fe608186-6527-40df-e252-3d68a5b2b464"
      },
      "source": [
        "q6()"
      ],
      "execution_count": 0,
      "outputs": [
        {
          "output_type": "execute_result",
          "data": {
            "text/plain": [
              "213"
            ]
          },
          "metadata": {
            "tags": []
          },
          "execution_count": 103
        }
      ]
    },
    {
      "cell_type": "markdown",
      "metadata": {
        "id": "6KlRaDZIZHwp",
        "colab_type": "text"
      },
      "source": [
        "## Questão 7\n",
        "\n",
        "Aplique `TfidfVectorizer` ao _data set_ `newsgroups` e descubra o TF-IDF da palavra _phone_. Responda como um único escalar arredondado para três casas decimais."
      ]
    },
    {
      "cell_type": "code",
      "metadata": {
        "id": "4nh-aufJZHwq",
        "colab_type": "code",
        "colab": {}
      },
      "source": [
        "from sklearn.feature_extraction.text import TfidfTransformer, TfidfVectorizer"
      ],
      "execution_count": 0,
      "outputs": []
    },
    {
      "cell_type": "code",
      "metadata": {
        "id": "68eMyI5YZHws",
        "colab_type": "code",
        "colab": {}
      },
      "source": [
        "tfidf_vec = TfidfVectorizer()\n",
        "vectorized_data = tfidf_vec.fit_transform(newsgroup.data)"
      ],
      "execution_count": 0,
      "outputs": []
    },
    {
      "cell_type": "code",
      "metadata": {
        "id": "AK6ki3dNZHwu",
        "colab_type": "code",
        "colab": {},
        "outputId": "c0611a32-dcb3-47f6-d064-b24c2dd21c6b"
      },
      "source": [
        "phone_count_2 = vectorized_data[:, indice]\n",
        "phone_count_2[phone_count_2 != 0]\n",
        "phone_count_2.sum()"
      ],
      "execution_count": 0,
      "outputs": [
        {
          "output_type": "execute_result",
          "data": {
            "text/plain": [
              "8.88774594667355"
            ]
          },
          "metadata": {
            "tags": []
          },
          "execution_count": 106
        }
      ]
    },
    {
      "cell_type": "code",
      "metadata": {
        "id": "mq1D1zwEZHww",
        "colab_type": "code",
        "colab": {}
      },
      "source": [
        "def q7():\n",
        "    return float(round(phone_count_2.sum(),3))\n"
      ],
      "execution_count": 0,
      "outputs": []
    },
    {
      "cell_type": "code",
      "metadata": {
        "id": "peh4byKIZHwy",
        "colab_type": "code",
        "colab": {},
        "outputId": "5746822d-69d4-4a61-c5b0-532920fe3f4b"
      },
      "source": [
        "q7()"
      ],
      "execution_count": 0,
      "outputs": [
        {
          "output_type": "execute_result",
          "data": {
            "text/plain": [
              "8.888"
            ]
          },
          "metadata": {
            "tags": []
          },
          "execution_count": 109
        }
      ]
    },
    {
      "cell_type": "code",
      "metadata": {
        "id": "AiyPgbOwZHw1",
        "colab_type": "code",
        "colab": {}
      },
      "source": [
        ""
      ],
      "execution_count": 0,
      "outputs": []
    }
  ]
}