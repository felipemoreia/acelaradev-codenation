{
  "nbformat": 4,
  "nbformat_minor": 0,
  "metadata": {
    "kernelspec": {
      "display_name": "Python 3",
      "language": "python",
      "name": "python3"
    },
    "language_info": {
      "codemirror_mode": {
        "name": "ipython",
        "version": 3
      },
      "file_extension": ".py",
      "mimetype": "text/x-python",
      "name": "python",
      "nbconvert_exporter": "python",
      "pygments_lexer": "ipython3",
      "version": "3.8.2"
    },
    "colab": {
      "name": "Distribuicoes_Probabilidade.ipynb",
      "provenance": [],
      "collapsed_sections": [],
      "include_colab_link": true
    }
  },
  "cells": [
    {
      "cell_type": "markdown",
      "metadata": {
        "id": "view-in-github",
        "colab_type": "text"
      },
      "source": [
        "<a href=\"https://colab.research.google.com/github/felipemoreia/acelaradev-codenation/blob/master/Distribuicoes_Probabilidade.ipynb\" target=\"_parent\"><img src=\"https://colab.research.google.com/assets/colab-badge.svg\" alt=\"Open In Colab\"/></a>"
      ]
    },
    {
      "cell_type": "markdown",
      "metadata": {
        "id": "mUpTGtldYYsE",
        "colab_type": "text"
      },
      "source": [
        "# Desafio 3\n",
        "\n",
        "Neste desafio, iremos praticar nossos conhecimentos sobre distribuições de probabilidade. Para isso,\n",
        "dividiremos este desafio em duas partes:\n",
        "    \n",
        "1. A primeira parte contará com 3 questões sobre um *data set* artificial com dados de uma amostra normal e\n",
        "    uma binomial.\n",
        "2. A segunda parte será sobre a análise da distribuição de uma variável do _data set_ [Pulsar Star](https://archive.ics.uci.edu/ml/datasets/HTRU2), contendo 2 questões.\n",
        "\n",
        "> Obs.: Por favor, não modifique o nome das funções de resposta."
      ]
    },
    {
      "cell_type": "markdown",
      "metadata": {
        "id": "5n6yIA_0YYsF",
        "colab_type": "text"
      },
      "source": [
        "## _Setup_ geral"
      ]
    },
    {
      "cell_type": "code",
      "metadata": {
        "id": "62WgewS5YYsF",
        "colab_type": "code",
        "colab": {}
      },
      "source": [
        "import pandas as pd\n",
        "import matplotlib.pyplot as plt\n",
        "import numpy as np\n",
        "import scipy.stats as sct\n",
        "import seaborn as sns\n",
        "from statsmodels.distributions.empirical_distribution import ECDF"
      ],
      "execution_count": 0,
      "outputs": []
    },
    {
      "cell_type": "markdown",
      "metadata": {
        "id": "4T89vSspYYsI",
        "colab_type": "text"
      },
      "source": [
        "## Parte 1"
      ]
    },
    {
      "cell_type": "markdown",
      "metadata": {
        "id": "LyRZiNR6YYsI",
        "colab_type": "text"
      },
      "source": [
        "### _Setup_ da parte 1"
      ]
    },
    {
      "cell_type": "code",
      "metadata": {
        "id": "ya3THbI_YYsJ",
        "colab_type": "code",
        "colab": {}
      },
      "source": [
        "np.random.seed(42)\n",
        "    \n",
        "dataframe = pd.DataFrame({\"normal\": sct.norm.rvs(20, 4, size=10000),\n",
        "                     \"binomial\": sct.binom.rvs(100, 0.2, size=10000)})"
      ],
      "execution_count": 0,
      "outputs": []
    },
    {
      "cell_type": "markdown",
      "metadata": {
        "id": "P0YsAzs3YYsL",
        "colab_type": "text"
      },
      "source": [
        "## Inicie sua análise a partir da parte 1 a partir daqui"
      ]
    },
    {
      "cell_type": "code",
      "metadata": {
        "id": "EGecuAsyYYsM",
        "colab_type": "code",
        "colab": {}
      },
      "source": [
        "# Sua análise da parte 1 começa aqui."
      ],
      "execution_count": 0,
      "outputs": []
    },
    {
      "cell_type": "markdown",
      "metadata": {
        "id": "KUAdCdPPYYsO",
        "colab_type": "text"
      },
      "source": [
        "## Questão 1\n",
        "\n",
        "Qual a diferença entre os quartis (Q1, Q2 e Q3) das variáveis `normal` e `binomial` de `dataframe`? Responda como uma tupla de três elementos arredondados para três casas decimais.\n",
        "\n",
        "Em outra palavras, sejam `q1_norm`, `q2_norm` e `q3_norm` os quantis da variável `normal` e `q1_binom`, `q2_binom` e `q3_binom` os quantis da variável `binom`, qual a diferença `(q1_norm - q1 binom, q2_norm - q2_binom, q3_norm - q3_binom)`?"
      ]
    },
    {
      "cell_type": "code",
      "metadata": {
        "id": "7x4mXBRzYYsP",
        "colab_type": "code",
        "colab": {}
      },
      "source": [
        "def q1():\n",
        "    q1_n = dataframe['normal'].quantile(.25)\n",
        "    q2_n = dataframe['normal'].quantile(.50)\n",
        "    q3_n = dataframe['normal'].quantile(.75)\n",
        "    q1_b = dataframe['binomial'].quantile(.25)\n",
        "    q2_b = dataframe['binomial'].quantile(.50)\n",
        "    q3_b = dataframe['binomial'].quantile(.75)\n",
        "    resultado_final = (round((q1_n - q1_b),3), round((q2_n - q2_b),3), round((q3_n - q3_b),3))\n",
        "    return resultado_final"
      ],
      "execution_count": 0,
      "outputs": []
    },
    {
      "cell_type": "markdown",
      "metadata": {
        "id": "qEdphKPcYYsR",
        "colab_type": "text"
      },
      "source": [
        "Para refletir:\n",
        "\n",
        "* Você esperava valores dessa magnitude?\n",
        "\n",
        "* Você é capaz de explicar como distribuições aparentemente tão diferentes (discreta e contínua, por exemplo) conseguem dar esses valores?"
      ]
    },
    {
      "cell_type": "markdown",
      "metadata": {
        "id": "utNXBb5EYYsS",
        "colab_type": "text"
      },
      "source": [
        "## Questão 2\n",
        "\n",
        "Considere o intervalo $[\\bar{x} - s, \\bar{x} + s]$, onde $\\bar{x}$ é a média amostral e $s$ é o desvio padrão. Qual a probabilidade nesse intervalo, calculada pela função de distribuição acumulada empírica (CDF empírica) da variável `normal`? Responda como uma único escalar arredondado para três casas decimais."
      ]
    },
    {
      "cell_type": "code",
      "metadata": {
        "id": "Szvssg8wYYsS",
        "colab_type": "code",
        "colab": {}
      },
      "source": [
        "def q2():\n",
        "    diferença = round((dataframe['normal'].mean()-dataframe['normal'].std()), 3)\n",
        "    soma = round((dataframe['normal'].mean()+dataframe['normal'].std()),3)\n",
        "    cdf_inicial = sct.norm.cdf(diferença, loc=20, scale=4)\n",
        "    cdf_final = sct.norm.cdf(soma, loc=20, scale=4)\n",
        "    resposta_final = float(round((cdf_final - cdf_inicial),3))\n",
        "    return resposta_final\n",
        "    "
      ],
      "execution_count": 0,
      "outputs": []
    },
    {
      "cell_type": "markdown",
      "metadata": {
        "id": "LTOgoebdYYsV",
        "colab_type": "text"
      },
      "source": [
        "Para refletir:\n",
        "\n",
        "* Esse valor se aproxima do esperado teórico?\n",
        "* Experimente também para os intervalos $[\\bar{x} - 2s, \\bar{x} + 2s]$ e $[\\bar{x} - 3s, \\bar{x} + 3s]$."
      ]
    },
    {
      "cell_type": "markdown",
      "metadata": {
        "id": "yttV1G7EYYsW",
        "colab_type": "text"
      },
      "source": [
        "## Questão 3\n",
        "\n",
        "Qual é a diferença entre as médias e as variâncias das variáveis `binomial` e `normal`? Responda como uma tupla de dois elementos arredondados para três casas decimais.\n",
        "\n",
        "Em outras palavras, sejam `m_binom` e `v_binom` a média e a variância da variável `binomial`, e `m_norm` e `v_norm` a média e a variância da variável `normal`. Quais as diferenças `(m_binom - m_norm, v_binom - v_norm)`?"
      ]
    },
    {
      "cell_type": "code",
      "metadata": {
        "id": "G9WPNmmUYYsX",
        "colab_type": "code",
        "colab": {}
      },
      "source": [
        "def q3():\n",
        "    media_normal = dataframe['normal'].mean()\n",
        "    media_binomial = dataframe['binomial'].mean()\n",
        "    variancia_normal = dataframe['normal'].var()\n",
        "    variancia_binomial = dataframe['binomial'].var()\n",
        "    resultado_final = (round((media_binomial-media_normal),3), round((variancia_binomial-variancia_normal),3))\n",
        "    return resultado_final\n",
        "    "
      ],
      "execution_count": 0,
      "outputs": []
    },
    {
      "cell_type": "markdown",
      "metadata": {
        "id": "STpyngvSYYsZ",
        "colab_type": "text"
      },
      "source": [
        "Para refletir:\n",
        "\n",
        "* Você esperava valore dessa magnitude?\n",
        "* Qual o efeito de aumentar ou diminuir $n$ (atualmente 100) na distribuição da variável `binomial`?"
      ]
    },
    {
      "cell_type": "markdown",
      "metadata": {
        "id": "c_0J9AEQYYsa",
        "colab_type": "text"
      },
      "source": [
        "## Parte 2"
      ]
    },
    {
      "cell_type": "markdown",
      "metadata": {
        "id": "vOCYS9LUYYsa",
        "colab_type": "text"
      },
      "source": [
        "### _Setup_ da parte 2"
      ]
    },
    {
      "cell_type": "code",
      "metadata": {
        "id": "KOLMQWXZYYsa",
        "colab_type": "code",
        "colab": {}
      },
      "source": [
        "stars = pd.read_csv(\"pulsar_stars.csv\")\n",
        "\n",
        "stars.rename({old_name: new_name\n",
        "              for (old_name, new_name)\n",
        "              in zip(stars.columns,\n",
        "                     [\"mean_profile\", \"sd_profile\", \"kurt_profile\", \"skew_profile\", \"mean_curve\", \"sd_curve\", \"kurt_curve\", \"skew_curve\", \"target\"])\n",
        "             },\n",
        "             axis=1, inplace=True)\n",
        "\n",
        "stars.loc[:, \"target\"] = stars.target.astype(bool)"
      ],
      "execution_count": 0,
      "outputs": []
    },
    {
      "cell_type": "markdown",
      "metadata": {
        "id": "aNOLVAB7YYsc",
        "colab_type": "text"
      },
      "source": [
        "## Inicie sua análise da parte 2 a partir daqui"
      ]
    },
    {
      "cell_type": "code",
      "metadata": {
        "id": "-CXQ2uthYYsd",
        "colab_type": "code",
        "colab": {},
        "outputId": "10d87522-4bce-488c-84a9-c78498f9eddf"
      },
      "source": [
        "stars['target'].value_counts()"
      ],
      "execution_count": 0,
      "outputs": [
        {
          "output_type": "execute_result",
          "data": {
            "text/plain": [
              "False    16258\n",
              "True      1639\n",
              "Name: target, dtype: int64"
            ]
          },
          "metadata": {
            "tags": []
          },
          "execution_count": 8
        }
      ]
    },
    {
      "cell_type": "code",
      "metadata": {
        "id": "YJ2Nfos9YYsf",
        "colab_type": "code",
        "colab": {},
        "outputId": "9a99dba6-b220-45ae-fa60-5e14e233690d"
      },
      "source": [
        "false_pulsars = stars[stars['target']==False]\n",
        "false_pulsars['false_pulsar_mean_profile_standardized'] = (false_pulsars['mean_profile'] - false_pulsars['mean_profile'].mean())/false_pulsars['mean_profile'].std()"
      ],
      "execution_count": 0,
      "outputs": [
        {
          "output_type": "stream",
          "text": [
            "<ipython-input-9-444065f62230>:2: SettingWithCopyWarning: \n",
            "A value is trying to be set on a copy of a slice from a DataFrame.\n",
            "Try using .loc[row_indexer,col_indexer] = value instead\n",
            "\n",
            "See the caveats in the documentation: http://pandas.pydata.org/pandas-docs/stable/indexing.html#indexing-view-versus-copy\n",
            "  false_pulsars['false_pulsar_mean_profile_standardized'] = (false_pulsars['mean_profile'] - false_pulsars['mean_profile'].mean())/false_pulsars['mean_profile'].std()\n"
          ],
          "name": "stderr"
        }
      ]
    },
    {
      "cell_type": "markdown",
      "metadata": {
        "id": "V7dMTsURYYsi",
        "colab_type": "text"
      },
      "source": [
        "## Questão 4\n",
        "\n",
        "Considerando a variável `mean_profile` de `stars`:\n",
        "\n",
        "1. Filtre apenas os valores de `mean_profile` onde `target == 0` (ou seja, onde a estrela não é um pulsar).\n",
        "2. Padronize a variável `mean_profile` filtrada anteriormente para ter média 0 e variância 1.\n",
        "\n",
        "Chamaremos a variável resultante de `false_pulsar_mean_profile_standardized`.\n",
        "\n",
        "Encontre os quantis teóricos para uma distribuição normal de média 0 e variância 1 para 0.80, 0.90 e 0.95 através da função `norm.ppf()` disponível em `scipy.stats`.\n",
        "\n",
        "Quais as probabilidade associadas a esses quantis utilizando a CDF empírica da variável `false_pulsar_mean_profile_standardized`? Responda como uma tupla de três elementos arredondados para três casas decimais."
      ]
    },
    {
      "cell_type": "code",
      "metadata": {
        "id": "XnSXlUooYYsj",
        "colab_type": "code",
        "colab": {}
      },
      "source": [
        "def q4():\n",
        "    q_80 = sct.norm.ppf(0.80, loc=0, scale=1)\n",
        "    q_90 = sct.norm.ppf(0.90, loc=0, scale=1)\n",
        "    q_95 = sct.norm.ppf(0.95, loc=0, scale=1)\n",
        "    loc = false_pulsars['false_pulsar_mean_profile_standardized'].mean()\n",
        "    scale = false_pulsars['false_pulsar_mean_profile_standardized'].std()\n",
        "    resposta1 = round(sct.norm.cdf(q_80, loc=loc, scale=scale),3)\n",
        "    resposta2 = round(sct.norm.cdf(q_90, loc=loc, scale=scale), 3)\n",
        "    resposta3 = round(sct.norm.cdf(q_95, loc=loc, scale=scale),3)\n",
        "    resposta_final = (resposta1, resposta2, resposta3)\n",
        "    return resposta_final"
      ],
      "execution_count": 0,
      "outputs": []
    },
    {
      "cell_type": "markdown",
      "metadata": {
        "id": "W2Jcm6EgYYsl",
        "colab_type": "text"
      },
      "source": [
        "Para refletir:\n",
        "\n",
        "* Os valores encontrados fazem sentido?\n",
        "* O que isso pode dizer sobre a distribuição da variável `false_pulsar_mean_profile_standardized`?"
      ]
    },
    {
      "cell_type": "markdown",
      "metadata": {
        "id": "8axrkHYcYYsl",
        "colab_type": "text"
      },
      "source": [
        "## Questão 5\n",
        "\n",
        "Qual a diferença entre os quantis Q1, Q2 e Q3 de `false_pulsar_mean_profile_standardized` e os mesmos quantis teóricos de uma distribuição normal de média 0 e variância 1? Responda como uma tupla de três elementos arredondados para três casas decimais."
      ]
    },
    {
      "cell_type": "code",
      "metadata": {
        "id": "VYJxzJmEYYsm",
        "colab_type": "code",
        "colab": {}
      },
      "source": [
        "def q5():\n",
        "    q_1 = sct.norm.ppf(0.25, loc=0, scale=1)\n",
        "    q_2 = sct.norm.ppf(0.50, loc=0, scale=1)\n",
        "    q_3 = sct.norm.ppf(0.75, loc=0, scale=1)\n",
        "    q1_r = false_pulsars['false_pulsar_mean_profile_standardized'].quantile(.25)\n",
        "    q2_r = false_pulsars['false_pulsar_mean_profile_standardized'].quantile(.50)\n",
        "    q3_r = false_pulsars['false_pulsar_mean_profile_standardized'].quantile(.75)\n",
        "    resposta = (round((q1_r - q_1),3), round((q2_r - q_2),3), round((q3_r - q_3),3))\n",
        "    return resposta"
      ],
      "execution_count": 0,
      "outputs": []
    },
    {
      "cell_type": "markdown",
      "metadata": {
        "id": "bjgUzp9kYYso",
        "colab_type": "text"
      },
      "source": [
        "Para refletir:\n",
        "\n",
        "* Os valores encontrados fazem sentido?\n",
        "* O que isso pode dizer sobre a distribuição da variável `false_pulsar_mean_profile_standardized`?\n",
        "* Curiosidade: alguns testes de hipóteses sobre normalidade dos dados utilizam essa mesma abordagem."
      ]
    }
  ]
}